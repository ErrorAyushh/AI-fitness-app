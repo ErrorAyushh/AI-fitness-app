{
 "cells": [
  {
   "cell_type": "code",
   "execution_count": 1,
   "id": "51f8fcc8-6220-4f78-bb01-066d29e0f551",
   "metadata": {},
   "outputs": [],
   "source": [
    "import cv2\n",
    "import PoseModule as pm  # your poseDetector class\n",
    "\n",
    "def main():\n",
    "    cap = cv2.VideoCapture(0)\n",
    "    detector = pm.poseDetector()\n",
    "    feedback = \"Start Plank\"\n",
    "    hold_time = 0\n",
    "    good_form = False\n",
    "\n",
    "    while True:\n",
    "        ret, img = cap.read()\n",
    "        if not ret:\n",
    "            break\n",
    "\n",
    "        img = detector.findPose(img, draw=True)\n",
    "        lmList = detector.findPosition(img, draw=False)\n",
    "\n",
    "        if lmList:\n",
    "            # Keypoints for shoulder, hip, and ankle\n",
    "            # LEFT_SHOULDER = 11, LEFT_HIP = 23, LEFT_ANKLE = 27\n",
    "            shoulder_y = lmList[11][2]\n",
    "            hip_y = lmList[23][2]\n",
    "            ankle_y = lmList[27][2]\n",
    "\n",
    "            # Check if hips are aligned with shoulders and ankles\n",
    "            hip_to_line = abs(hip_y - ((shoulder_y + ankle_y) / 2))\n",
    "\n",
    "            if hip_to_line < 20:  # Threshold for good alignment\n",
    "                feedback = \"Good Form ✅\"\n",
    "                good_form = True\n",
    "                hold_time += 1  # increment frames held\n",
    "            else:\n",
    "                feedback = \"Hips too high/low ⚠️\"\n",
    "                good_form = False\n",
    "                hold_time = 0\n",
    "\n",
    "            # Display hold time in seconds (assuming ~30 FPS)\n",
    "            cv2.putText(img, f\"Hold: {hold_time//30} sec\", (10, 70),\n",
    "                        cv2.FONT_HERSHEY_SIMPLEX, 1, (255, 0, 0), 2)\n",
    "\n",
    "            # Display feedback\n",
    "            cv2.putText(img, feedback, (10, 120), cv2.FONT_HERSHEY_SIMPLEX,\n",
    "                        1, (0, 255, 0) if good_form else (0, 0, 255), 2)\n",
    "\n",
    "        cv2.imshow(\"Plank Form Checker\", img)\n",
    "        if cv2.waitKey(10) & 0xFF == ord('q'):\n",
    "            break\n",
    "\n",
    "    cap.release()\n",
    "    cv2.destroyAllWindows()\n",
    "\n",
    "if __name__ == \"__main__\":\n",
    "    main()\n"
   ]
  },
  {
   "cell_type": "code",
   "execution_count": null,
   "id": "ec94a3e8-c9fd-4d74-a627-4f83183bf631",
   "metadata": {},
   "outputs": [],
   "source": []
  }
 ],
 "metadata": {
  "kernelspec": {
   "display_name": "Python 3.10 (tf_env)",
   "language": "python",
   "name": "tf_env"
  },
  "language_info": {
   "codemirror_mode": {
    "name": "ipython",
    "version": 3
   },
   "file_extension": ".py",
   "mimetype": "text/x-python",
   "name": "python",
   "nbconvert_exporter": "python",
   "pygments_lexer": "ipython3",
   "version": "3.10.0"
  }
 },
 "nbformat": 4,
 "nbformat_minor": 5
}
